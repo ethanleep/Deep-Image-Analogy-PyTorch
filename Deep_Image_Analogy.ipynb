{
  "nbformat": 4,
  "nbformat_minor": 0,
  "metadata": {
    "colab": {
      "name": "Deep Image Analogy",
      "provenance": [],
      "toc_visible": true,
      "authorship_tag": "ABX9TyMSUGFGTfacVBqpSqQOd+lK",
      "include_colab_link": true
    },
    "kernelspec": {
      "name": "python3",
      "display_name": "Python 3"
    },
    "accelerator": "GPU"
  },
  "cells": [
    {
      "cell_type": "markdown",
      "metadata": {
        "id": "view-in-github",
        "colab_type": "text"
      },
      "source": [
        "<a href=\"https://colab.research.google.com/github/ethanleep/Deep-Image-Analogy-PyTorch/blob/master/Deep_Image_Analogy.ipynb\" target=\"_parent\"><img src=\"https://colab.research.google.com/assets/colab-badge.svg\" alt=\"Open In Colab\"/></a>"
      ]
    },
    {
      "cell_type": "markdown",
      "metadata": {
        "id": "pcloyFNlYStP"
      },
      "source": [
        "Make sure Runtime is set to GPU accelerated and that the images are the same size"
      ]
    },
    {
      "cell_type": "code",
      "metadata": {
        "id": "0Zok5Y0dQlLj",
        "cellView": "form"
      },
      "source": [
        "#@title Clone the repository, install requirements, and setup environment\n",
        "from IPython.display import clear_output\n",
        "from google.colab import files\n",
        "from PIL import Image\n",
        "from IPython.display import Image as picture\n",
        "!git clone https://github.com/ethanleep/Deep-Image-Analogy-PyTorch\n",
        "!pip install utils\n",
        "%cd Deep-Image-Analogy-PyTorch\n",
        "direc = 5\n",
        "clear_output()"
      ],
      "execution_count": 1,
      "outputs": []
    },
    {
      "cell_type": "code",
      "metadata": {
        "id": "8UPqtqZC7W-p",
        "cellView": "form"
      },
      "source": [
        "#@title Upload image 1 (.png only)\n",
        "!rm -rf image\n",
        "!mkdir image\n",
        "uploaded = files.upload()\n",
        "photo = list(uploaded.keys())\n",
        "photo = photo[0]\n",
        "!cp \"$photo\" image/ima.png\n",
        "!rm \"$photo\"\n",
        "im = Image.open(\"image/ima.png\")\n",
        "width1, height1 = im.size\n",
        "clear_output()\n",
        "print(\"Success\")\n",
        "display(picture(\"image/ima.png\"))"
      ],
      "execution_count": null,
      "outputs": []
    },
    {
      "cell_type": "code",
      "metadata": {
        "id": "pJKw_Puu-W9d",
        "cellView": "form"
      },
      "source": [
        "#@title Upload image 2 (.png only)\n",
        "uploaded = files.upload()\n",
        "photo = list(uploaded.keys())\n",
        "photo = photo[0]\n",
        "!cp \"$photo\" image/imb.png\n",
        "!rm \"$photo\"\n",
        "im = Image.open(\"image/imb.png\")\n",
        "width2, height2 = im.size\n",
        "clear_output()\n",
        "if ((width1 != width2) or (height1 != height2)):\n",
        "  print(\"Failure:Images are not the same size\")\n",
        "else:\n",
        "  print(\"Success\")\n",
        "  display(picture(\"image/imb.png\"))"
      ],
      "execution_count": null,
      "outputs": []
    },
    {
      "cell_type": "code",
      "metadata": {
        "id": "LQNjKnWMRB7w",
        "cellView": "form"
      },
      "source": [
        "#@title Run main script\n",
        "direc = direc + 1\n",
        "!python main.py --resize_ratio 0.5 --weight 2 --img_A_path image/ima.png --img_BP_path image/imb.png --use_cuda True\n",
        "display(picture(\"results/expr_\" + str(direc) + \"/img_AP.png\"))\n",
        "print(\"results/expr_\" + str(direc) + \"/img_AP.png\")\n",
        "display(picture(\"results/expr_\" + str(direc) + \"/img_B.png\"))\n",
        "print(\"results/expr_\" + str(direc) + \"/img_B.png\")"
      ],
      "execution_count": null,
      "outputs": []
    }
  ]
}